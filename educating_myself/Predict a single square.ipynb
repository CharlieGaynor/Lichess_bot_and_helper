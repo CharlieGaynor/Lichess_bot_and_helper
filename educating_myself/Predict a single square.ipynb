{
 "cells": [
  {
   "cell_type": "code",
   "execution_count": 1,
   "metadata": {},
   "outputs": [],
   "source": [
    "import torch\n",
    "import torch.nn as nn\n",
    "import cv2\n",
    "import numpy as np \n",
    "from torch import optim\n",
    "import os"
   ]
  },
  {
   "cell_type": "code",
   "execution_count": 2,
   "metadata": {},
   "outputs": [],
   "source": [
    "def si(img):\n",
    "    '''function to show image. Press 0 to close'''\n",
    "    \n",
    "    cv2.imshow('image',img)\n",
    "    import time\n",
    "    cv2.waitKey(0)\n",
    "    cv2.destroyAllWindows()\n",
    "    return"
   ]
  },
  {
   "cell_type": "markdown",
   "metadata": {},
   "source": [
    "Loading images and pairing with labels"
   ]
  },
  {
   "cell_type": "code",
   "execution_count": 3,
   "metadata": {},
   "outputs": [],
   "source": [
    "# Loading images of white 7 black pieces into the arrays\n",
    "wsqs = []\n",
    "bsqs = []\n",
    "\n",
    "for img in os.listdir('..//images//processed//white_square//'):\n",
    "    wsqs.append(cv2.imread('..//images//processed//white_square//' + img))\n",
    "\n",
    "for img in os.listdir('..//images//processed//black_square//'):\n",
    "    bsqs.append(cv2.imread('..//images//processed//black_square//' + img))"
   ]
  },
  {
   "cell_type": "code",
   "execution_count": 4,
   "metadata": {},
   "outputs": [],
   "source": [
    "# for i in bbs:\n",
    "#     si(i)\n",
    "# for i in bks:\n",
    "#     si(i)\n",
    "# for i in bns:\n",
    "#     si(i)\n",
    "# for i in bps:\n",
    "#     si(i)\n",
    "# for i in bqs:\n",
    "#     si(i)\n",
    "# for i in brs:\n",
    "#     si(i)\n",
    "# for i in wbs:\n",
    "#     si(i)\n",
    "# for i in wks:\n",
    "#     si(i)\n",
    "# for i in wns:\n",
    "#     si(i)\n",
    "# for i in wps:\n",
    "#     si(i)\n",
    "# for i in wqs:\n",
    "#     si(i)\n",
    "# for i in wrs:\n",
    "#     si(i)\n"
   ]
  },
  {
   "cell_type": "code",
   "execution_count": 5,
   "metadata": {},
   "outputs": [],
   "source": [
    "bbs = [wsqs[0], bsqs[0]] # black bishops\n",
    "bks = [wsqs[1], bsqs[1]] # black kings\n",
    "bns = [wsqs[2], bsqs[2]] # etc\n",
    "bps = [wsqs[3], bsqs[3]]\n",
    "bqs = [wsqs[4], bsqs[4]]\n",
    "brs = [wsqs[5], bsqs[5]]\n",
    "wbs = [wsqs[6], bsqs[6]]\n",
    "wks = [wsqs[7], bsqs[7]]\n",
    "wns = [wsqs[8], bsqs[8]]\n",
    "wps = [wsqs[9], bsqs[9]]\n",
    "wqs = [wsqs[10], bsqs[10]]\n",
    "wrs = [wsqs[11], bsqs[11]]\n",
    "wsq = [wsqs[-1]]\n",
    "bsq = [bsqs[-1]]"
   ]
  },
  {
   "cell_type": "code",
   "execution_count": 6,
   "metadata": {},
   "outputs": [],
   "source": [
    "labels_template = [i//2 for i in range(12*2)] + [12, 13]\n",
    "labels = []\n",
    "for i in labels_template:\n",
    "    labels.append(torch.tensor([i], dtype=torch.long))\n",
    "    \n",
    "pieces = bbs + bks + bns + bps + bqs + brs + wbs +wks +wns +wps +wqs +wrs +wsq +bsq\n",
    "# pieces =  pieces / 255\n",
    "\n",
    "data = tuple(zip(pieces, labels))"
   ]
  },
  {
   "cell_type": "code",
   "execution_count": 15,
   "metadata": {},
   "outputs": [
    {
     "name": "stdout",
     "output_type": "stream",
     "text": [
      "[tensor([0]), tensor([0]), tensor([1]), tensor([1]), tensor([2]), tensor([2]), tensor([3]), tensor([3]), tensor([4]), tensor([4]), tensor([5]), tensor([5]), tensor([6]), tensor([6]), tensor([7]), tensor([7]), tensor([8]), tensor([8]), tensor([9]), tensor([9]), tensor([10]), tensor([10]), tensor([11]), tensor([11]), tensor([12]), tensor([13])]\n"
     ]
    }
   ],
   "source": [
    "print(labels)"
   ]
  },
  {
   "cell_type": "code",
   "execution_count": 7,
   "metadata": {},
   "outputs": [],
   "source": [
    "# for img, label in data:\n",
    "#     print(label)\n",
    "#     si(img)"
   ]
  },
  {
   "cell_type": "code",
   "execution_count": 8,
   "metadata": {},
   "outputs": [],
   "source": [
    "import pickle\n",
    "with open('..\\\\data\\\\data.pkl', 'wb') as f:\n",
    "    pickle.dump(data, f)"
   ]
  },
  {
   "cell_type": "code",
   "execution_count": 9,
   "metadata": {},
   "outputs": [],
   "source": [
    "@torch.no_grad()\n",
    "def accuracy(x, y, model):\n",
    "    # get the prediction matrix for a tensor of `x` images\n",
    "    prediction = model(x)\n",
    "    # compute if the location of maximum in each row\n",
    "    # coincides with ground truth\n",
    "    max_values, argmaxes = prediction.max(-1)\n",
    "    is_correct = argmaxes == y\n",
    "    return float(sum(is_correct) / len(is_correct))\n",
    "\n",
    "# Testing on all data\n",
    "def get_accuracy():\n",
    "    randints = range(0, len(data))\n",
    "    xs = []\n",
    "    ys = []\n",
    "    for i in randints:\n",
    "        x, y = data[i]\n",
    "        x = torch.flatten(torch.tensor(x, dtype=torch.float))\n",
    "        xs.append(x)\n",
    "        y = int(y)\n",
    "        ys.append(y)\n",
    "    xs = torch.stack(xs)\n",
    "    ys = torch.tensor(ys)\n",
    "\n",
    "    print('\"validation\" accuracy', accuracy(xs, ys, net))\n",
    "    \n",
    "def validation_loss(model):\n",
    "    randints = range(0, len(data))\n",
    "    xs = []\n",
    "    ys = []\n",
    "    for i in randints:\n",
    "        x, y = data[i]\n",
    "        x = torch.flatten(torch.tensor(x, dtype=torch.float))\n",
    "        xs.append(x)\n",
    "        y = int(y)\n",
    "        ys.append(y)\n",
    "    xs = torch.stack(xs)\n",
    "    ys = torch.tensor(ys)\n",
    "    \n",
    "    prediction = model(xs)\n",
    "#     return prediction\n",
    "    return loss_fn(prediction, ys)"
   ]
  },
  {
   "cell_type": "code",
   "execution_count": 10,
   "metadata": {},
   "outputs": [],
   "source": [
    "class network(nn.Module):\n",
    "    def __init__(self):\n",
    "        \n",
    "        super().__init__()\n",
    "        self.l1 = nn.Linear(in_features=77*77*3, out_features=14)\n",
    "#         self.l2 = nn.ReLU()\n",
    "#         self.l3 =nn.Linear(in_features=10**2, out_features=14)\n",
    "        \n",
    "    def forward(self, x):\n",
    "        x = x / 255\n",
    "        return self.l1(x)\n",
    "        # return self.l3(self.l2(self.l1(x)))"
   ]
  },
  {
   "cell_type": "code",
   "execution_count": 11,
   "metadata": {},
   "outputs": [],
   "source": [
    "def init_net():\n",
    "    net = network()\n",
    "    loss_fn = nn.CrossEntropyLoss()\n",
    "    opt = optim.SGD(net.parameters(), lr=0.001, momentum=0.1)\n",
    "    return net, loss_fn, opt"
   ]
  },
  {
   "cell_type": "code",
   "execution_count": 12,
   "metadata": {},
   "outputs": [
    {
     "name": "stdout",
     "output_type": "stream",
     "text": [
      "\"validation\" accuracy 0.03846153989434242\n",
      "\"validation\" accuracy 0.9615384340286255\n",
      "\"validation\" accuracy 0.9615384340286255\n",
      "\"validation\" accuracy 1.0\n",
      "\"validation\" accuracy 1.0\n",
      "\"validation\" accuracy 1.0\n",
      "\"validation\" accuracy 1.0\n",
      "\"validation\" accuracy 1.0\n",
      "\"validation\" accuracy 1.0\n",
      "\"validation\" accuracy 1.0\n"
     ]
    }
   ],
   "source": [
    "losses = []\n",
    "vlosses = []\n",
    "net, loss_fn, opt = init_net()\n",
    "for num in range(10000):\n",
    "    img, Y = data[np.random.randint(len(data))]\n",
    "    ti = torch.tensor(img, dtype=torch.float32)\n",
    "    ti = torch.flatten(ti)\n",
    "    _Y = net(ti).reshape(1, -1)\n",
    "    \n",
    "    loss = loss_fn(_Y, Y)\n",
    "    if num % 50 == 0:\n",
    "        losses.append(loss)\n",
    "        vlosses.append(validation_loss(net))\n",
    "        if num %1000 == 0:\n",
    "            get_accuracy()\n",
    "    opt.zero_grad()\n",
    "    loss.backward()\n",
    "    opt.step()"
   ]
  },
  {
   "cell_type": "code",
   "execution_count": 13,
   "metadata": {},
   "outputs": [
    {
     "data": {
      "image/png": "[encoded data removed]",
      "text/plain": [
       "<Figure size 432x288 with 1 Axes>"
      ]
     },
     "metadata": {
      "needs_background": "light"
     },
     "output_type": "display_data"
    }
   ],
   "source": [
    "import matplotlib.pyplot as plt\n",
    "\n",
    "plt.plot(losses)\n",
    "plt.plot(vlosses)\n",
    "ticks, _= plt.xticks()\n",
    "plt.gca().set_xticks(ticks)\n",
    "plt.gca().set_xticklabels([ int(i*50) for i in ticks]);"
   ]
  },
  {
   "cell_type": "code",
   "execution_count": 14,
   "metadata": {},
   "outputs": [],
   "source": [
    "torch.save(net.state_dict(), \"../models/basicbitch.pth\")"
   ]
  }
 ],
 "metadata": {
  "kernelspec": {
   "display_name": "Python 3",
   "language": "python",
   "name": "python3"
  },
  "language_info": {
   "codemirror_mode": {
    "name": "ipython",
    "version": 3
   },
   "file_extension": ".py",
   "mimetype": "text/x-python",
   "name": "python",
   "nbconvert_exporter": "python",
   "pygments_lexer": "ipython3",
   "version": "3.8.2"
  }
 },
 "nbformat": 4,
 "nbformat_minor": 4
}
