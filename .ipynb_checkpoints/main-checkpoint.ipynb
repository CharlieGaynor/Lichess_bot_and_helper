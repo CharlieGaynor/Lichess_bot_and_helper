{
 "cells": [
  {
   "cell_type": "code",
   "execution_count": 1,
   "metadata": {},
   "outputs": [],
   "source": [
    "# -*- coding: utf-8 -*-\n",
    "\"\"\"\n",
    "Created on Sun Mar  6 19:39:28 2022\n",
    "\n",
    "@author: Charl\n",
    "\"\"\"\n",
    "import cv2\n",
    "import pyautogui\n",
    "import numpy as np \n",
    "import torch\n",
    "import os\n",
    "import time\n",
    "import torch.nn as nn\n",
    "import math"
   ]
  },
  {
   "cell_type": "markdown",
   "metadata": {},
   "source": [
    "Defining stuff"
   ]
  },
  {
   "cell_type": "code",
   "execution_count": 2,
   "metadata": {},
   "outputs": [],
   "source": [
    "def si(img):\n",
    "    '''function to show image. Press 0 to close'''\n",
    "    \n",
    "    cv2.imshow('image',img)\n",
    "    import time\n",
    "    cv2.waitKey(0)\n",
    "    cv2.destroyAllWindows()\n",
    "    return"
   ]
  },
  {
   "cell_type": "code",
   "execution_count": 3,
   "metadata": {},
   "outputs": [],
   "source": [
    "# Loading images of white 7 black pieces into the arrays\n",
    "wsqs = []\n",
    "bsqs = []\n",
    "\n",
    "for img in os.listdir('images//processed//white_square//'):\n",
    "    wsqs.append(cv2.imread('images//processed//white_square//' + img))\n",
    "\n",
    "for img in os.listdir('images//processed//black_square//'):\n",
    "    bsqs.append(cv2.imread('images//processed//black_square//' + img))"
   ]
  },
  {
   "cell_type": "code",
   "execution_count": 4,
   "metadata": {},
   "outputs": [],
   "source": [
    "class network(nn.Module):\n",
    "    def __init__(self):\n",
    "        \n",
    "        super().__init__()\n",
    "        self.l1 = nn.Linear(in_features=77*77*3, out_features=14)\n",
    "#         self.l2 = nn.ReLU()\n",
    "#         self.l3 = nn.Linear(in_features=10**2, out_features=14)\n",
    "        \n",
    "    def forward(self, x):\n",
    "        x = x / 255\n",
    "        return self.l1(x)\n",
    "        # return self.l3(self.l2(self.l1(x)))"
   ]
  },
  {
   "cell_type": "code",
   "execution_count": 5,
   "metadata": {},
   "outputs": [],
   "source": [
    "def convert_labels_to_board(board):\n",
    "    parity = 1\n",
    "    len_board = len(board)\n",
    "    dims = int(np.sqrt(len_board))\n",
    "    \n",
    "    pred_pic = np.zeros((77*dims, 77*dims, 3), dtype=np.uint8)\n",
    "    for x in range(dims):\n",
    "        parity *= -1\n",
    "        for y in range(dims):\n",
    "            parity *= -1\n",
    "            if parity == 1:\n",
    "                label = board[x*dims + y]\n",
    "                if label in [12, 13]:\n",
    "                    pic = wsqs[-1]\n",
    "                else:\n",
    "                    pic = wsqs[label]\n",
    "            else:\n",
    "                label = board[x*dims + y]\n",
    "                if label in [12, 13]:\n",
    "                    pic = bsqs[-1]\n",
    "                else:\n",
    "                    pic = bsqs[label]\n",
    "\n",
    "            pred_pic[(x) * 77: (x+1) * 77, (y) * 77: (y+1) * 77, :] = pic\n",
    "\n",
    "    return pred_pic"
   ]
  },
  {
   "cell_type": "markdown",
   "metadata": {},
   "source": [
    "## Sense checking, taking picture of board and comparing our prediction"
   ]
  },
  {
   "cell_type": "code",
   "execution_count": 6,
   "metadata": {},
   "outputs": [],
   "source": [
    "# import time\n",
    "# time.sleep(1)\n",
    "# capture = pyautogui.screenshot(region=(1920-1333, 1080-907, 720, 720))\n",
    "# board = cv2.cvtColor(np.array(capture), cv2.COLOR_RGB2BGR)\n",
    "# #si(board)\n",
    "# board.shape\n",
    "\n",
    "\n",
    "# new_board = cv2.resize(board, (77*8, 77*8))\n",
    "# si(new_board)"
   ]
  },
  {
   "cell_type": "code",
   "execution_count": 7,
   "metadata": {},
   "outputs": [],
   "source": [
    "model = network()\n",
    "model.load_state_dict(torch.load('models/basicbitch.pth'))\n",
    "# model.eval()\n",
    "\n",
    "size = 8\n",
    "\n",
    "def get_labels(model, new_board, size=8):\n",
    "    ''' gets model prediction for each square given a screenshot of the board\n",
    "    \n",
    "    returns: list of labels for each square'''\n",
    "    pred_board = []\n",
    "    for x in range(size):\n",
    "        for y in range(size):\n",
    "            piece = new_board[(x) * 77: (x+1) * 77, (y) * 77: (y+1) * 77, :]\n",
    "            piece2 = torch.tensor(piece, dtype=torch.float32)\n",
    "            piece2 = torch.flatten(piece2)\n",
    "    #         piece2 = piece2 / 255\n",
    "            pred = model(piece2)\n",
    "            _, label = pred.max(-1)\n",
    "            pred_board.append(int(label))\n",
    "\n",
    "    return pred_board\n",
    "\n",
    "#pred_board = get_labels(model, new_board)"
   ]
  },
  {
   "cell_type": "code",
   "execution_count": 8,
   "metadata": {},
   "outputs": [],
   "source": [
    "# cv2.imshow('board',new_board[: size*77, : size*77, :])\n",
    "\n",
    "# predboard = convert_labels_to_board(pred_board)\n",
    "# cv2.imshow('prediction', predboard)\n",
    "\n",
    "# cv2.waitKey(0)\n",
    "# cv2.destroyAllWindows()\n"
   ]
  },
  {
   "cell_type": "code",
   "execution_count": 9,
   "metadata": {},
   "outputs": [],
   "source": [
    "import pickle\n",
    "with open('data/data.pkl', 'rb') as f:\n",
    "    data = pickle.load(f)"
   ]
  },
  {
   "cell_type": "code",
   "execution_count": 10,
   "metadata": {},
   "outputs": [
    {
     "name": "stdout",
     "output_type": "stream",
     "text": [
      "\"validation\" accuracy 1.0\n"
     ]
    }
   ],
   "source": [
    "@torch.no_grad()\n",
    "def accuracy(x, y, model):\n",
    "    # get the prediction matrix for a tensor of `x` images\n",
    "    prediction = model(x)\n",
    "    # compute if the location of maximum in each row\n",
    "    # coincides with ground truth\n",
    "    max_values, argmaxes = prediction.max(-1)\n",
    "    is_correct = argmaxes == y\n",
    "    return float(sum(is_correct) / len(is_correct))\n",
    "\n",
    "# Testing on all data\n",
    "def get_accuracy(model):\n",
    "    randints = range(0, len(data))\n",
    "    xs = []\n",
    "    ys = []\n",
    "    for i in randints:\n",
    "        x, y = data[i]\n",
    "        x = torch.flatten(torch.tensor(x, dtype=torch.float))\n",
    "        xs.append(x)\n",
    "        y = int(y)\n",
    "        ys.append(y)\n",
    "    xs = torch.stack(xs)\n",
    "    ys = torch.tensor(ys)\n",
    "\n",
    "    print('\"validation\" accuracy', accuracy(xs, ys, model))\n",
    "\n",
    "get_accuracy(model)"
   ]
  },
  {
   "cell_type": "markdown",
   "metadata": {},
   "source": [
    "## Now executing the screenshotting"
   ]
  },
  {
   "cell_type": "markdown",
   "metadata": {},
   "source": [
    "How to handle whose turn it is?\n",
    "Take a screenshot of the timers, and see which one is highlighted green"
   ]
  },
  {
   "cell_type": "code",
   "execution_count": 78,
   "metadata": {},
   "outputs": [],
   "source": [
    "from stockfish import Stockfish\n",
    "import mss\n"
   ]
  },
  {
   "cell_type": "code",
   "execution_count": 79,
   "metadata": {},
   "outputs": [],
   "source": [
    "# monitor = {\"left\": 1920-1333, \"top\": 1080-907, \"width\": 720, \"height\": 720}\n",
    "# img = np.array(mss.mss().grab(monitor))\n",
    "# si(img)"
   ]
  },
  {
   "cell_type": "code",
   "execution_count": 13,
   "metadata": {},
   "outputs": [],
   "source": [
    "piece_dictionary = {\n",
    "    0: 'b',\n",
    "    1: 'k',\n",
    "    2: 'n',\n",
    "    3: 'p',\n",
    "    4: 'q',\n",
    "    5: 'r',\n",
    "    6: 'B',\n",
    "    7: 'K',\n",
    "    8: 'N',\n",
    "    9: 'P',\n",
    "    10: 'Q',\n",
    "    11: 'R'\n",
    "}\n",
    "\n",
    "def convert_labels_to_string(labels, our_color):\n",
    "    #need to acount for wheter we're black or hwite\n",
    "    if our_color == 1:\n",
    "        pass\n",
    "    elif our_color == 0:\n",
    "        labels = labels[::-1]\n",
    "    string = ''\n",
    "    for x in range(8):\n",
    "        # If not the first row then add a slash every 8\n",
    "        if x != 0:\n",
    "            if running_count != 0:\n",
    "                # if blank spaces at end of last row then add them on sunshine\n",
    "                string += str(running_count)\n",
    "            string += '/'\n",
    "        running_count = 0\n",
    "        for y in range(8):\n",
    "            idx = x * 8 + y\n",
    "            if labels[idx] in [12, 13]:\n",
    "                # If blank space then increase counter\n",
    "                running_count += 1\n",
    "            else:\n",
    "                # If not blank space then add on current running count and the current piece\n",
    "                if running_count != 0:\n",
    "                    string += str(running_count)\n",
    "                string += piece_dictionary[labels[idx]]\n",
    "                running_count = 0\n",
    "    if running_count != 0:\n",
    "        string += str(running_count)\n",
    "    return string\n",
    "\n",
    "def get_FEN_notation(labels, color, total_turns, threat=False):\n",
    "    main_string = convert_labels_to_string(labels, color)\n",
    "    if threat:\n",
    "        if color == 1:\n",
    "            main_string += ' b'\n",
    "        else:\n",
    "            main_string += ' w'\n",
    "    else:\n",
    "        if color == 1:\n",
    "            main_string += ' w'\n",
    "        else:\n",
    "            main_string += ' b'\n",
    "\n",
    "    main_string +=' - - 0' # because i cba to do castling or en passant yet\n",
    "    main_string += f' {total_turns}'# cba to track full main moves, dno if matters?'\n",
    "    \n",
    "    return main_string"
   ]
  },
  {
   "cell_type": "code",
   "execution_count": 14,
   "metadata": {},
   "outputs": [
    {
     "name": "stdout",
     "output_type": "stream",
     "text": [
      "21.5 ms ± 8.69 ms per loop (mean ± std. dev. of 10 runs, 1 loop each)\n"
     ]
    }
   ],
   "source": [
    "%%timeit -r10 -n1\n",
    "monitor = {\"left\": 1920-1333, \"top\": 1080-907, \"width\": 720, \"height\": 720}\n",
    "img = np.array(mss.mss().grab(monitor))[:, :, :3]\n",
    "board_resized = cv2.resize(img, (77*8, 77*8))\n",
    "# img = np.array(pyautogui.screenshot(region=(1920-1333, 1080-907, 720, 720)))\n",
    "#board = cv2.cvtColor(img)#, cv2.COLOR_RGB2BGR)"
   ]
  },
  {
   "cell_type": "code",
   "execution_count": 15,
   "metadata": {},
   "outputs": [
    {
     "name": "stdout",
     "output_type": "stream",
     "text": [
      "51.5 ms ± 8.15 ms per loop (mean ± std. dev. of 10 runs, 1 loop each)\n"
     ]
    }
   ],
   "source": [
    "%%timeit -r10 -n1\n",
    "img = np.array(pyautogui.screenshot(region=(1920-1333, 1080-907, 720, 720)))\n",
    "board = cv2.cvtColor(img, cv2.COLOR_RGB2BGR)"
   ]
  },
  {
   "cell_type": "code",
   "execution_count": 16,
   "metadata": {},
   "outputs": [],
   "source": [
    "def grab_labels_and_board(model):\n",
    "    monitor = {\"left\": 1920-1333, \"top\": 1080-907, \"width\": 720, \"height\": 720}\n",
    "    img = np.array(mss.mss().grab(monitor))[:, :, :3]\n",
    "    board_resized = cv2.resize(img, (77*8, 77*8))\n",
    "\n",
    "    labels = get_labels(model, board_resized)\n",
    "    new_board = convert_labels_to_board(labels)\n",
    "    \n",
    "    return labels, new_board\n",
    "        "
   ]
  },
  {
   "cell_type": "code",
   "execution_count": 17,
   "metadata": {},
   "outputs": [],
   "source": [
    "def test_for_black_or_white():\n",
    "#     monitor = {\"left\": 1920-1333, \"top\": 1080-907, \"width\": 720, \"height\": 720}\n",
    "#     monitor = {\"left\": 1920-699, \"top\": 1080-274, \"width\": 1, \"height\": 1}\n",
    "    monitor = {\"left\": 1920-662, \"top\": 1080-239, \"width\": 1, \"height\": 1}\n",
    "    img = np.array(mss.mss().grab(monitor))[:, :, :3]\n",
    "    \n",
    "    if np.all(np.isclose(img, np.array([255, 255, 255]), atol=5)):\n",
    "        return 1\n",
    "    elif np.all(np.isclose(img, np.array([0, 0, 0]), atol=5)):\n",
    "        return 0\n",
    "    else:\n",
    "        raise TypeError('Can\"t tell if black or white')\n",
    "    return img[:, :, :3]\n",
    "\n",
    "# test_for_black_or_white()"
   ]
  },
  {
   "cell_type": "code",
   "execution_count": 18,
   "metadata": {},
   "outputs": [
    {
     "data": {
      "text/plain": [
       "1"
      ]
     },
     "execution_count": 18,
     "metadata": {},
     "output_type": "execute_result"
    }
   ],
   "source": [
    "def test_for_whose_turn(model, our_color):\n",
    "#     monitor = {\"left\": 1920-1333, \"top\": 1080-907, \"width\": 720, \"height\": 720}\n",
    "#     monitor = {\"left\": 1920-699, \"top\": 1080-274, \"width\": 1, \"height\": 1}\n",
    "    monitor1 = {\"left\": 1920-590, \"top\": 1080-359, \"width\": 1, \"height\": 1}\n",
    "    img1 = np.array(mss.mss().grab(monitor1))[:, :, :3]\n",
    "    \n",
    "    monitor2 = {\"left\": 1920-590, \"top\": 1080-706, \"width\": 1, \"height\": 1}\n",
    "    img2 = np.array(mss.mss().grab(monitor2))[:, :, :3]\n",
    "    \n",
    "    \n",
    "    # if this then my turn. if not check the other players (incase its start of game)\n",
    "    if (\n",
    "        (np.all(np.isclose(img1, np.array([189, 224, 208]), atol=5)))\n",
    "        | (np.all(np.isclose(img1, np.array([153, 153, 230]), atol=5)))\n",
    "        ):\n",
    "        return 1\n",
    "    elif (\n",
    "        (np.all(np.isclose(img2, np.array([189, 224, 208]), atol=5)))\n",
    "        | (np.all(np.isclose(img2, np.array([153, 153, 230]), atol=5)))\n",
    "        ):\n",
    "        return 0\n",
    "    # If neither of above then it's the start of the game.\n",
    "    # In this case, take a picture of the board, put into string, and see if\n",
    "    # it matches the starting board?\n",
    "    else:\n",
    "        labels, board = grab_labels_and_board(model)\n",
    "        string = convert_labels_to_string(labels, our_color)\n",
    "        #si(board)\n",
    "\n",
    "        if string == 'rnbqkbnr/pppppppp/8/8/8/8/PPPPPPPP/RNBQKBNR':\n",
    "            return 1 if our_color == 1 else 0\n",
    "        else:\n",
    "            return 1 if our_color == 0 else 0\n",
    "\n",
    "    return img2[:, :, :3]\n",
    "\n",
    "test_for_whose_turn(model, 1)"
   ]
  },
  {
   "cell_type": "code",
   "execution_count": 19,
   "metadata": {},
   "outputs": [],
   "source": [
    "\n",
    "def get_square(move, our_color):\n",
    "    '''Takes in a grid co-ordinate and reutrns pixel position'''\n",
    "    letter = move[0]\n",
    "    num = move[-1]\n",
    "    \n",
    "    letters = ['a', 'b', 'c', 'd', 'e', 'f', 'g', 'h']\n",
    "    numbers =  [str(i) for i in range(1, 9)]\n",
    "    \n",
    "    if our_color == 1:\n",
    "        #i.e if we are white\n",
    "        x_numeric_positions = [i*77 + 77//2 for i in range(8)]\n",
    "        y_numeric_positions = [77*8 - (i*77 + 77//2) for i in range(8)]\n",
    "        \n",
    "        \n",
    "    else:\n",
    "        x_numeric_positions = [ 77*8 - (i*77 + 77//2) for i in range(8)]\n",
    "        y_numeric_positions = [i*77 + 77//2 for i in range(8)]\n",
    "    \n",
    "    letter_to_pos_dict = {letters[i]: x_numeric_positions[i] for i in range(8)}\n",
    "    number_to_pos_dict = {numbers[i]: y_numeric_positions[i] for i in range(8)}\n",
    "    \n",
    "    x_pos = letter_to_pos_dict[letter]\n",
    "    y_pos = number_to_pos_dict[num]\n",
    "        \n",
    "    return (x_pos, y_pos)"
   ]
  },
  {
   "cell_type": "code",
   "execution_count": 51,
   "metadata": {},
   "outputs": [],
   "source": [
    "import keyboard\n",
    "\n",
    "def give_advice():\n",
    "\n",
    "    color = 2\n",
    "    to_capture = 1\n",
    "    full_turn = 0#\n",
    "    recapture = 0\n",
    "    \n",
    "    sf = Stockfish(path='stockfish\\\\stockfish\\\\stockfish_14')\n",
    "    while True:\n",
    "\n",
    "        if keyboard.is_pressed('`'):\n",
    "            print('you pressed \" ` \" , breaking')\n",
    "            cv2.destroyAllWindows() # destroys the window showing image\n",
    "            break\n",
    "\n",
    "        if keyboard.is_pressed('/'):\n",
    "            print('Reseting...')\n",
    "            color = 2 # resets so we test what color we are (only works at start of game)\n",
    "\n",
    "        if keyboard.is_pressed('#'):\n",
    "            print('Recapturing...')\n",
    "            recapture  = 1\n",
    "        # First get if we are black or white\n",
    "        if color > 1:\n",
    "            try:\n",
    "                color = test_for_black_or_white() \n",
    "            except TypeError:\n",
    "                continue\n",
    "        #Get whose turn it is\n",
    "        turn = test_for_whose_turn(model, color)\n",
    "\n",
    "        if turn == 0:\n",
    "            to_capture = 1\n",
    "        #\n",
    "        if ( (turn == 1) & (to_capture == 1)) | (recapture == 1):\n",
    "            time.sleep(0.2)\n",
    "            labels, board = grab_labels_and_board(model)\n",
    "\n",
    "            ## Convert to stockfish friendly representation ##\n",
    "            full_turn += 1\n",
    "            fen_notation = get_FEN_notation(labels, color, full_turn)\n",
    "\n",
    "\n",
    "            ## Get best move from stockfish ##\n",
    "            sf.set_fen_position(fen_notation)\n",
    "            move = sf.get_best_move_time(100)\n",
    "            print(fen_notation)\n",
    "            print(move)\n",
    "\n",
    "            start_square = get_square(move[:2], color)\n",
    "            end_square = get_square(move[2:], color)\n",
    "\n",
    "            board = cv2.arrowedLine(board, start_square, end_square,\n",
    "                        (80, 255, 80), 5, tipLength= 0.035 )\n",
    "\n",
    "            ## Calculating biggest threat, doing same as above\n",
    "            fen_notation = get_FEN_notation(labels, color, full_turn, threat=True)\n",
    "\n",
    "            sf.set_fen_position(fen_notation)\n",
    "            threat = sf.get_best_move_time(50)\n",
    "            print(threat)\n",
    "\n",
    "            start_square = get_square(threat[:2], color)\n",
    "            end_square = get_square(threat[2:4], color)\n",
    "\n",
    "            board = cv2.arrowedLine(board, start_square, end_square,\n",
    "                        (40, 40, 255), 3, tipLength= 0.035 )\n",
    "\n",
    "            to_capture = 0\n",
    "            recapture  = 0\n",
    "\n",
    "        cv2.imshow('Example - Show `image in window', board)\n",
    "        cv2.waitKey(200)"
   ]
  },
  {
   "cell_type": "code",
   "execution_count": 76,
   "metadata": {},
   "outputs": [],
   "source": [
    "import keyboard\n",
    "import time\n",
    "def play_for_me(time_multiplier=200):\n",
    "\n",
    "    color = 2\n",
    "    to_capture = 1\n",
    "    full_turn = 0#\n",
    "    recapture = 0\n",
    "    x_offset = 1920-1333\n",
    "    y_offset = 1080-907\n",
    "    count = 0\n",
    "    paused = -1\n",
    "    debugging = -1\n",
    "    \n",
    "    sf = Stockfish(path='stockfish\\\\stockfish\\\\stockfish_14')\n",
    "\n",
    "    scale_factor = 720 / (77 * 8)\n",
    "    while True:\n",
    "        \n",
    "        \n",
    "\n",
    "        if keyboard.is_pressed('`'):\n",
    "            print('you pressed \" ` \" , breaking')\n",
    "            break\n",
    "\n",
    "        if keyboard.is_pressed('/'):\n",
    "            print('Resetting...')\n",
    "            play_for_me(time_multiplier=time_multiplier)\n",
    "            return\n",
    "\n",
    "        if keyboard.is_pressed(','):\n",
    "            paused *= -1\n",
    "            if paused  == 1:\n",
    "                print('Pausing...')\n",
    "            else:\n",
    "                print('Unpaused')\n",
    "            time.sleep(0.5)\n",
    "            \n",
    "        if keyboard.is_pressed('.'):\n",
    "            debugging *= -1\n",
    "            if debugging  == 1:\n",
    "                print('debuggin.')\n",
    "            else:\n",
    "                print('not debuggin.')\n",
    "            time.sleep(0.2)\n",
    "\n",
    "            \n",
    "        if paused == 1:\n",
    "            continue\n",
    "        # First get if we are black or white\n",
    "        if color > 1:\n",
    "            try:\n",
    "                color = test_for_black_or_white() \n",
    "            except TypeError:\n",
    "                continue\n",
    "                \n",
    "        \n",
    "        #Get whose turn it is\n",
    "        turn = test_for_whose_turn(model, color)\n",
    "\n",
    "        if turn == 0:\n",
    "            to_capture = 1\n",
    "            count = 0 \n",
    "        #\n",
    "        if ( (turn == 1) ) | (recapture == 1):\n",
    "            if (to_capture == 1) | (count > 3):\n",
    "                time.sleep(0.2)\n",
    "                labels, board = grab_labels_and_board(model)\n",
    "\n",
    "                ## Convert to stockfish friendly representation ##\n",
    "                full_turn += 1\n",
    "                fen_notation = get_FEN_notation(labels, color, full_turn)\n",
    "\n",
    "                ## Get best move from stockfish ##\n",
    "                sf.set_fen_position(fen_notation)\n",
    "                \n",
    "                movetime = np.random.rand() * time_multiplier + 100\n",
    "                \n",
    "                move = sf.get_best_move_time(movetime)\n",
    "                \n",
    "                start_square = get_square(move[:2], color)\n",
    "                end_square = get_square(move[2:4], color)\n",
    "            if turn == 1:\n",
    "                \n",
    "                pyautogui.moveTo(x_offset + start_square[0]*scale_factor,\n",
    "                                 y_offset + start_square[1]*scale_factor)\n",
    "                \n",
    "                pyautogui.dragTo(x_offset + end_square[0]*scale_factor,\n",
    "                                 y_offset + end_square[1]*scale_factor, button='left')\n",
    "                time.sleep(0.05)\n",
    "                count += 1\n",
    "\n",
    "            to_capture = 0\n",
    "            recapture  = 0\n",
    "            \n",
    "        if debugging == 1:\n",
    "            print('turn', turn)\n",
    "            print('color', color)\n",
    "            print('to_capture', to_capture)\n",
    "            print('count', count)\n"
   ]
  },
  {
   "cell_type": "code",
   "execution_count": 77,
   "metadata": {},
   "outputs": [
    {
     "name": "stdout",
     "output_type": "stream",
     "text": [
      "Pausing...\n"
     ]
    },
    {
     "ename": "KeyboardInterrupt",
     "evalue": "",
     "output_type": "error",
     "traceback": [
      "\u001b[1;31m---------------------------------------------------------------------------\u001b[0m",
      "\u001b[1;31mKeyboardInterrupt\u001b[0m                         Traceback (most recent call last)",
      "\u001b[1;32m<ipython-input-77-9e590178fad4>\u001b[0m in \u001b[0;36m<module>\u001b[1;34m\u001b[0m\n\u001b[1;32m----> 1\u001b[1;33m \u001b[0mplay_for_me\u001b[0m\u001b[1;33m(\u001b[0m\u001b[0mtime_multiplier\u001b[0m\u001b[1;33m=\u001b[0m\u001b[1;36m0\u001b[0m\u001b[1;33m)\u001b[0m\u001b[1;33m\u001b[0m\u001b[1;33m\u001b[0m\u001b[0m\n\u001b[0m",
      "\u001b[1;32m<ipython-input-76-4402b885b0b1>\u001b[0m in \u001b[0;36mplay_for_me\u001b[1;34m(time_multiplier)\u001b[0m\n\u001b[0;32m     24\u001b[0m             \u001b[1;32mbreak\u001b[0m\u001b[1;33m\u001b[0m\u001b[1;33m\u001b[0m\u001b[0m\n\u001b[0;32m     25\u001b[0m \u001b[1;33m\u001b[0m\u001b[0m\n\u001b[1;32m---> 26\u001b[1;33m         \u001b[1;32mif\u001b[0m \u001b[0mkeyboard\u001b[0m\u001b[1;33m.\u001b[0m\u001b[0mis_pressed\u001b[0m\u001b[1;33m(\u001b[0m\u001b[1;34m'/'\u001b[0m\u001b[1;33m)\u001b[0m\u001b[1;33m:\u001b[0m\u001b[1;33m\u001b[0m\u001b[1;33m\u001b[0m\u001b[0m\n\u001b[0m\u001b[0;32m     27\u001b[0m             \u001b[0mprint\u001b[0m\u001b[1;33m(\u001b[0m\u001b[1;34m'Resetting...'\u001b[0m\u001b[1;33m)\u001b[0m\u001b[1;33m\u001b[0m\u001b[1;33m\u001b[0m\u001b[0m\n\u001b[0;32m     28\u001b[0m             \u001b[0mplay_for_me\u001b[0m\u001b[1;33m(\u001b[0m\u001b[0mtime_multiplier\u001b[0m\u001b[1;33m=\u001b[0m\u001b[0mtime_multiplier\u001b[0m\u001b[1;33m)\u001b[0m\u001b[1;33m\u001b[0m\u001b[1;33m\u001b[0m\u001b[0m\n",
      "\u001b[1;32mc:\\users\\charl\\appdata\\local\\programs\\python\\python38\\lib\\site-packages\\keyboard\\__init__.py\u001b[0m in \u001b[0;36mis_pressed\u001b[1;34m(hotkey)\u001b[0m\n\u001b[0;32m    415\u001b[0m             \u001b[1;32mreturn\u001b[0m \u001b[0mhotkey\u001b[0m \u001b[1;32min\u001b[0m \u001b[0m_pressed_events\u001b[0m\u001b[1;33m\u001b[0m\u001b[1;33m\u001b[0m\u001b[0m\n\u001b[0;32m    416\u001b[0m \u001b[1;33m\u001b[0m\u001b[0m\n\u001b[1;32m--> 417\u001b[1;33m     \u001b[0msteps\u001b[0m \u001b[1;33m=\u001b[0m \u001b[0mparse_hotkey\u001b[0m\u001b[1;33m(\u001b[0m\u001b[0mhotkey\u001b[0m\u001b[1;33m)\u001b[0m\u001b[1;33m\u001b[0m\u001b[1;33m\u001b[0m\u001b[0m\n\u001b[0m\u001b[0;32m    418\u001b[0m     \u001b[1;32mif\u001b[0m \u001b[0mlen\u001b[0m\u001b[1;33m(\u001b[0m\u001b[0msteps\u001b[0m\u001b[1;33m)\u001b[0m \u001b[1;33m>\u001b[0m \u001b[1;36m1\u001b[0m\u001b[1;33m:\u001b[0m\u001b[1;33m\u001b[0m\u001b[1;33m\u001b[0m\u001b[0m\n\u001b[0;32m    419\u001b[0m         \u001b[1;32mraise\u001b[0m \u001b[0mValueError\u001b[0m\u001b[1;33m(\u001b[0m\u001b[1;34m\"Impossible to check if multi-step hotkeys are pressed (`a+b` is ok, `a, b` isn't).\"\u001b[0m\u001b[1;33m)\u001b[0m\u001b[1;33m\u001b[0m\u001b[1;33m\u001b[0m\u001b[0m\n",
      "\u001b[1;32mc:\\users\\charl\\appdata\\local\\programs\\python\\python38\\lib\\site-packages\\keyboard\\__init__.py\u001b[0m in \u001b[0;36mparse_hotkey\u001b[1;34m(hotkey)\u001b[0m\n\u001b[0;32m    342\u001b[0m     \"\"\"\n\u001b[0;32m    343\u001b[0m     \u001b[1;32mif\u001b[0m \u001b[0m_is_number\u001b[0m\u001b[1;33m(\u001b[0m\u001b[0mhotkey\u001b[0m\u001b[1;33m)\u001b[0m \u001b[1;32mor\u001b[0m \u001b[0mlen\u001b[0m\u001b[1;33m(\u001b[0m\u001b[0mhotkey\u001b[0m\u001b[1;33m)\u001b[0m \u001b[1;33m==\u001b[0m \u001b[1;36m1\u001b[0m\u001b[1;33m:\u001b[0m\u001b[1;33m\u001b[0m\u001b[1;33m\u001b[0m\u001b[0m\n\u001b[1;32m--> 344\u001b[1;33m         \u001b[0mscan_codes\u001b[0m \u001b[1;33m=\u001b[0m \u001b[0mkey_to_scan_codes\u001b[0m\u001b[1;33m(\u001b[0m\u001b[0mhotkey\u001b[0m\u001b[1;33m)\u001b[0m\u001b[1;33m\u001b[0m\u001b[1;33m\u001b[0m\u001b[0m\n\u001b[0m\u001b[0;32m    345\u001b[0m         \u001b[0mstep\u001b[0m \u001b[1;33m=\u001b[0m \u001b[1;33m(\u001b[0m\u001b[0mscan_codes\u001b[0m\u001b[1;33m,\u001b[0m\u001b[1;33m)\u001b[0m\u001b[1;33m\u001b[0m\u001b[1;33m\u001b[0m\u001b[0m\n\u001b[0;32m    346\u001b[0m         \u001b[0msteps\u001b[0m \u001b[1;33m=\u001b[0m \u001b[1;33m(\u001b[0m\u001b[0mstep\u001b[0m\u001b[1;33m,\u001b[0m\u001b[1;33m)\u001b[0m\u001b[1;33m\u001b[0m\u001b[1;33m\u001b[0m\u001b[0m\n",
      "\u001b[1;32mc:\\users\\charl\\appdata\\local\\programs\\python\\python38\\lib\\site-packages\\keyboard\\__init__.py\u001b[0m in \u001b[0;36mkey_to_scan_codes\u001b[1;34m(key, error_if_missing)\u001b[0m\n\u001b[0;32m    315\u001b[0m     \u001b[1;32mtry\u001b[0m\u001b[1;33m:\u001b[0m\u001b[1;33m\u001b[0m\u001b[1;33m\u001b[0m\u001b[0m\n\u001b[0;32m    316\u001b[0m         \u001b[1;31m# Put items in ordered dict to remove duplicates.\u001b[0m\u001b[1;33m\u001b[0m\u001b[1;33m\u001b[0m\u001b[1;33m\u001b[0m\u001b[0m\n\u001b[1;32m--> 317\u001b[1;33m         \u001b[0mt\u001b[0m \u001b[1;33m=\u001b[0m \u001b[0mtuple\u001b[0m\u001b[1;33m(\u001b[0m\u001b[0m_collections\u001b[0m\u001b[1;33m.\u001b[0m\u001b[0mOrderedDict\u001b[0m\u001b[1;33m(\u001b[0m\u001b[1;33m(\u001b[0m\u001b[0mscan_code\u001b[0m\u001b[1;33m,\u001b[0m \u001b[1;32mTrue\u001b[0m\u001b[1;33m)\u001b[0m \u001b[1;32mfor\u001b[0m \u001b[0mscan_code\u001b[0m\u001b[1;33m,\u001b[0m \u001b[0mmodifier\u001b[0m \u001b[1;32min\u001b[0m \u001b[0m_os_keyboard\u001b[0m\u001b[1;33m.\u001b[0m\u001b[0mmap_name\u001b[0m\u001b[1;33m(\u001b[0m\u001b[0mnormalized\u001b[0m\u001b[1;33m)\u001b[0m\u001b[1;33m)\u001b[0m\u001b[1;33m)\u001b[0m\u001b[1;33m\u001b[0m\u001b[1;33m\u001b[0m\u001b[0m\n\u001b[0m\u001b[0;32m    318\u001b[0m         \u001b[0me\u001b[0m \u001b[1;33m=\u001b[0m \u001b[1;32mNone\u001b[0m\u001b[1;33m\u001b[0m\u001b[1;33m\u001b[0m\u001b[0m\n\u001b[0;32m    319\u001b[0m     \u001b[1;32mexcept\u001b[0m \u001b[1;33m(\u001b[0m\u001b[0mKeyError\u001b[0m\u001b[1;33m,\u001b[0m \u001b[0mValueError\u001b[0m\u001b[1;33m)\u001b[0m \u001b[1;32mas\u001b[0m \u001b[0mexception\u001b[0m\u001b[1;33m:\u001b[0m\u001b[1;33m\u001b[0m\u001b[1;33m\u001b[0m\u001b[0m\n",
      "\u001b[1;32mc:\\users\\charl\\appdata\\local\\programs\\python\\python38\\lib\\site-packages\\keyboard\\__init__.py\u001b[0m in \u001b[0;36m<genexpr>\u001b[1;34m(.0)\u001b[0m\n\u001b[0;32m    315\u001b[0m     \u001b[1;32mtry\u001b[0m\u001b[1;33m:\u001b[0m\u001b[1;33m\u001b[0m\u001b[1;33m\u001b[0m\u001b[0m\n\u001b[0;32m    316\u001b[0m         \u001b[1;31m# Put items in ordered dict to remove duplicates.\u001b[0m\u001b[1;33m\u001b[0m\u001b[1;33m\u001b[0m\u001b[1;33m\u001b[0m\u001b[0m\n\u001b[1;32m--> 317\u001b[1;33m         \u001b[0mt\u001b[0m \u001b[1;33m=\u001b[0m \u001b[0mtuple\u001b[0m\u001b[1;33m(\u001b[0m\u001b[0m_collections\u001b[0m\u001b[1;33m.\u001b[0m\u001b[0mOrderedDict\u001b[0m\u001b[1;33m(\u001b[0m\u001b[1;33m(\u001b[0m\u001b[0mscan_code\u001b[0m\u001b[1;33m,\u001b[0m \u001b[1;32mTrue\u001b[0m\u001b[1;33m)\u001b[0m \u001b[1;32mfor\u001b[0m \u001b[0mscan_code\u001b[0m\u001b[1;33m,\u001b[0m \u001b[0mmodifier\u001b[0m \u001b[1;32min\u001b[0m \u001b[0m_os_keyboard\u001b[0m\u001b[1;33m.\u001b[0m\u001b[0mmap_name\u001b[0m\u001b[1;33m(\u001b[0m\u001b[0mnormalized\u001b[0m\u001b[1;33m)\u001b[0m\u001b[1;33m)\u001b[0m\u001b[1;33m)\u001b[0m\u001b[1;33m\u001b[0m\u001b[1;33m\u001b[0m\u001b[0m\n\u001b[0m\u001b[0;32m    318\u001b[0m         \u001b[0me\u001b[0m \u001b[1;33m=\u001b[0m \u001b[1;32mNone\u001b[0m\u001b[1;33m\u001b[0m\u001b[1;33m\u001b[0m\u001b[0m\n\u001b[0;32m    319\u001b[0m     \u001b[1;32mexcept\u001b[0m \u001b[1;33m(\u001b[0m\u001b[0mKeyError\u001b[0m\u001b[1;33m,\u001b[0m \u001b[0mValueError\u001b[0m\u001b[1;33m)\u001b[0m \u001b[1;32mas\u001b[0m \u001b[0mexception\u001b[0m\u001b[1;33m:\u001b[0m\u001b[1;33m\u001b[0m\u001b[1;33m\u001b[0m\u001b[0m\n",
      "\u001b[1;32mc:\\users\\charl\\appdata\\local\\programs\\python\\python38\\lib\\site-packages\\keyboard\\_winkeyboard.py\u001b[0m in \u001b[0;36mmap_name\u001b[1;34m(name)\u001b[0m\n\u001b[0;32m    566\u001b[0m \u001b[1;33m\u001b[0m\u001b[0m\n\u001b[0;32m    567\u001b[0m \u001b[1;32mdef\u001b[0m \u001b[0mmap_name\u001b[0m\u001b[1;33m(\u001b[0m\u001b[0mname\u001b[0m\u001b[1;33m)\u001b[0m\u001b[1;33m:\u001b[0m\u001b[1;33m\u001b[0m\u001b[1;33m\u001b[0m\u001b[0m\n\u001b[1;32m--> 568\u001b[1;33m     \u001b[0m_setup_name_tables\u001b[0m\u001b[1;33m(\u001b[0m\u001b[1;33m)\u001b[0m\u001b[1;33m\u001b[0m\u001b[1;33m\u001b[0m\u001b[0m\n\u001b[0m\u001b[0;32m    569\u001b[0m \u001b[1;33m\u001b[0m\u001b[0m\n\u001b[0;32m    570\u001b[0m     \u001b[0mentries\u001b[0m \u001b[1;33m=\u001b[0m \u001b[0mfrom_name\u001b[0m\u001b[1;33m.\u001b[0m\u001b[0mget\u001b[0m\u001b[1;33m(\u001b[0m\u001b[0mname\u001b[0m\u001b[1;33m)\u001b[0m\u001b[1;33m\u001b[0m\u001b[1;33m\u001b[0m\u001b[0m\n",
      "\u001b[1;32mc:\\users\\charl\\appdata\\local\\programs\\python\\python38\\lib\\site-packages\\keyboard\\_winkeyboard.py\u001b[0m in \u001b[0;36m_setup_name_tables\u001b[1;34m()\u001b[0m\n\u001b[0;32m    387\u001b[0m     \"\"\"\n\u001b[0;32m    388\u001b[0m     \u001b[1;32mwith\u001b[0m \u001b[0mtables_lock\u001b[0m\u001b[1;33m:\u001b[0m\u001b[1;33m\u001b[0m\u001b[1;33m\u001b[0m\u001b[0m\n\u001b[1;32m--> 389\u001b[1;33m         \u001b[1;32mif\u001b[0m \u001b[0mto_name\u001b[0m\u001b[1;33m:\u001b[0m \u001b[1;32mreturn\u001b[0m\u001b[1;33m\u001b[0m\u001b[1;33m\u001b[0m\u001b[0m\n\u001b[0m\u001b[0;32m    390\u001b[0m \u001b[1;33m\u001b[0m\u001b[0m\n\u001b[0;32m    391\u001b[0m         \u001b[1;31m# Go through every possible scan code, and map them to virtual key codes.\u001b[0m\u001b[1;33m\u001b[0m\u001b[1;33m\u001b[0m\u001b[1;33m\u001b[0m\u001b[0m\n",
      "\u001b[1;31mKeyboardInterrupt\u001b[0m: "
     ]
    }
   ],
   "source": [
    "play_for_me(time_multiplier=0)"
   ]
  },
  {
   "cell_type": "code",
   "execution_count": null,
   "metadata": {},
   "outputs": [],
   "source": [
    "# Todo:\n",
    "# Top moves (built in stockfish)\n",
    "# Curent score (also built in stockfish)\n",
    "# Account for which way the board is to us\n",
    "\n",
    "# We could continuously get the fen position from stockfish\n",
    "        # Instead of ourselves, which would let us keep track of castling?\n",
    "    \n",
    "# Make interactive and then show what would happen if i made that bad move - \n",
    "# need pygame and all sorts of stuff will take too long"
   ]
  }
 ],
 "metadata": {
  "kernelspec": {
   "display_name": "Python 3",
   "language": "python",
   "name": "python3"
  },
  "language_info": {
   "codemirror_mode": {
    "name": "ipython",
    "version": 3
   },
   "file_extension": ".py",
   "mimetype": "text/x-python",
   "name": "python",
   "nbconvert_exporter": "python",
   "pygments_lexer": "ipython3",
   "version": "3.8.2"
  }
 },
 "nbformat": 4,
 "nbformat_minor": 4
}
